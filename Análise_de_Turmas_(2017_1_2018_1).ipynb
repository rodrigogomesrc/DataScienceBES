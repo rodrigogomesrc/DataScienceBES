{
  "nbformat": 4,
  "nbformat_minor": 0,
  "metadata": {
    "colab": {
      "name": "Análise de Turmas (2017.1 - 2018.1).ipynb",
      "provenance": [],
      "collapsed_sections": [],
      "include_colab_link": true
    },
    "kernelspec": {
      "name": "python3",
      "display_name": "Python 3"
    },
    "language_info": {
      "name": "python"
    }
  },
  "cells": [
    {
      "cell_type": "markdown",
      "metadata": {
        "id": "view-in-github",
        "colab_type": "text"
      },
      "source": [
        "<a href=\"https://colab.research.google.com/github/rodrigogomesrc/DataScienceBES/blob/main/An%C3%A1lise_de_Turmas_(2017_1_2018_1).ipynb\" target=\"_parent\"><img src=\"https://colab.research.google.com/assets/colab-badge.svg\" alt=\"Open In Colab\"/></a>"
      ]
    },
    {
      "cell_type": "markdown",
      "source": [
        "# Sobre\n",
        "\n",
        "Análise das turmas de graduação da UFRN e do Bacharelado em Engenharia de Software.\n",
        "\n",
        "Essa análise visa responder as seguintes perguntas:\n",
        "\n",
        "- Quantidade de alunos em uma turma influencia na nota média dos alunos?\n",
        "- Quantidade de alunos em uma turma influencia na proporção de trancamentos?"
      ],
      "metadata": {
        "id": "EgHorrpeGO2A"
      }
    },
    {
      "cell_type": "markdown",
      "metadata": {
        "id": "BHZCoaItrRvE"
      },
      "source": [
        "\n",
        "## Carregamento e tratamento dos dados"
      ]
    },
    {
      "cell_type": "code",
      "metadata": {
        "id": "DVImWC6Jqvai"
      },
      "source": [
        "# Importar bibliotecas e carregar os dados\n",
        "\n",
        "\n",
        "import pandas as pd\n",
        "import numpy as np\n",
        "import matplotlib.pyplot as plt\n",
        "from google.colab import files\n",
        "import csv\n",
        "import scipy\n",
        "import scipy.stats\n",
        "from scipy import stats\n",
        "\n",
        "#Dados Públicos da UFRN (https://dados.ufrn.br/)\n",
        "\n",
        "matriculas_20181 = pd.read_csv(\"/content/matricula-componente-20181.csv\", sep=\";\")\n",
        "matriculas_20181[\"semestre\"] = \"20181\"\n",
        "\n",
        "matriculas_20172 = pd.read_csv(\"/content/matricula-componente-20172.csv\", sep=\";\")\n",
        "matriculas_20172[\"semestre\"] = \"20172\"\n",
        "\n",
        "matriculas_20171 = pd.read_csv(\"/content/matricula-componente-20171.csv\", sep=\";\")\n",
        "matriculas_20171[\"semestre\"] = \"20171\"\n",
        "\n",
        "turmas_20181 = pd.read_csv(\"/content/turmas-2018.1.csv\", sep=\";\")\n",
        "turmas_20181[\"semestre\"] = \"20181\"\n",
        "\n",
        "turmas_20172 = pd.read_csv(\"/content/turmas-2017.2.csv\", sep=\";\")\n",
        "turmas_20172[\"semestre\"] = \"20172\"\n",
        "\n",
        "turmas_20171 = pd.read_csv(\"/content/turmas-2017.1.csv\", sep=\";\")\n",
        "turmas_20171[\"semestre\"] = \"20171\"\n",
        "\n",
        "data_turmas = turmas_20181.append(turmas_20172)\n",
        "data_turmas = data_turmas.append(turmas_20171)\n",
        "\n",
        "data = matriculas_20181.append(matriculas_20172)\n",
        "data = data.append(matriculas_20171)\n",
        "\n",
        "componentes = pd.read_csv(\"/content/componentes-curriculares-presenciais.csv\", sep=\";\")\n",
        "\n",
        "# Dados anonimizados fornecidos pela coordenação do Bacharelado em Engenharia de Software (BES)\n",
        "bes = pd.read_csv(\"/content/bes.csv\", sep=\",\")\n",
        "\n",
        "# Estando como True retira os desistentes mantendo somente os alunos com status de \"Aprovado\", \"Reprovado\" e \"Aprovado por Nota\" na análise\n",
        "# Ao retirar os desistentes não é possível fazer a análise de trancamentos, tendo em vista que os alunos que trancaram são retirados dos dados\n",
        "RETIRAR_DESISTENTES = True\n",
        "\n",
        "if(RETIRAR_DESISTENTES):\n",
        "  nd_statuses = [\"APROVADO\", \"REPROVADO\", \"APROVADO POR NOTA\"]\n",
        "  data_nd = data[data['descricao'].isin(nd_statuses)]\n",
        "  data = data_nd\n",
        "\n",
        "# pega um dataframe com o id das turmas e componentes curriculares\n",
        "turma_componente = data_turmas.filter(items=['id_turma', 'id_componente_curricular', 'semestre'])\n",
        "turma_componente = turma_componente.rename(columns={\"id_componente_curricular\": \"id_componente\"})\n",
        "\n",
        "# relaciona os ids das turmas com os ids e código dos componentes curriculares\n",
        "componente_codigo = componentes.filter(items=['id_componente', 'codigo'])\n",
        "turma_componente = turma_componente.merge(componente_codigo, on=\"id_componente\")\n",
        "turma_componente.drop_duplicates(subset=\"id_turma\", keep=\"first\", inplace=True)\n",
        "turma_componente = turma_componente.filter(items=['id_turma', 'codigo'])\n",
        "\n",
        "# pega os códigos de todas as turmas e separa somente os que correspondem ao BES\n",
        "bes_turmas = bes['Código']\n",
        "ids_turmas_bes = turma_componente[turma_componente['codigo'].isin(bes_turmas)]\n",
        "ids_turmas_bes = ids_turmas_bes['id_turma']\n",
        "ids_turmas_bes = ids_turmas_bes.reset_index(level=0)\n",
        "ids_turmas_bes = ids_turmas_bes['id_turma']\n",
        "\n"
      ],
      "execution_count": null,
      "outputs": []
    },
    {
      "cell_type": "markdown",
      "metadata": {
        "id": "UZaOu-t1xrqh"
      },
      "source": [
        "## Preparação dos dados"
      ]
    },
    {
      "cell_type": "code",
      "metadata": {
        "id": "wNPpeQy8wWNj"
      },
      "source": [
        "#pegar somente a informação se uma turma é ou não de graduação\n",
        "data_turmas = data_turmas.filter(items=['id_turma', 'nivel_ensino', 'semestre'])\n",
        "\n",
        "\n",
        "# pegar a quantidade de trancamentos por turma\n",
        "qtd_trancados = data\n",
        "qtd_trancados['TRANCADOS'] = [1 if valor == 'TRANCADO' else 0 for valor in qtd_trancados.descricao]\n",
        "qtd_trancados.drop_duplicates(subset=\"discente\", keep=\"first\", inplace=True)\n",
        "qtd_trancados = qtd_trancados.filter(items=['id_turma', 'TRANCADOS'])\n",
        "qtd_trancados = qtd_trancados.groupby('id_turma').sum()\n",
        "\n",
        "#qtd_trancados = qtd_trancados.sort_values(by=['TRANCADOS'], ascending=False)\n",
        "\n",
        "#Separa somente as colunas selecionadas\n",
        "turma_count = data.filter(items=['id_turma', 'discente', 'semestre'])\n",
        "\n",
        "'''\n",
        "Remover os dados duplicados, já que cada aluno vai aparecer 3 vezes na relação entre\n",
        "aluno e turma nos dados porque cada registro vai corresponder a 1 unidade. Dessa forma \n",
        "é necessário remover os duplicados para que ao contar a quantidade de alunos nas turmas\n",
        "não conte o mesmo aluno mais de uma vez\n",
        "'''\n",
        "\n",
        "turma_count.drop_duplicates(subset=\"discente\", keep=\"first\", inplace=True)\n",
        "\n",
        "# agrupa os dados por turma para contar quantos alunos tem em cada turma\n",
        "turma_count = turma_count.groupby('id_turma').count()\n",
        "\n",
        "# cria um dataframe só com a turma e a média final de cada aluno naquela turma\n",
        "media_turma = data.filter(items=['id_turma', 'media_final'])\n",
        "media_turma = media_turma.dropna()\n",
        "\n",
        "#troca a vírgula por ponto nos valores numéricos e converte para float para permitir o cálculo\n",
        "media_turma['media_final'] = media_turma['media_final'].str.replace(',', '.')\n",
        "media_turma['media_final'] = pd.to_numeric(media_turma['media_final'], downcast='float')\n",
        "\n",
        "#faz a média das médias finais de todos os alunos de uma turma, calculando a média geral da turma\n",
        "media_turma = media_turma.groupby('id_turma').mean()\n",
        "\n",
        "# junta os dataframes da média da turma com o dataframe com a quantidade de alunos\n",
        "df = pd.merge(turma_count, media_turma, right_index=True, left_index=True)\n",
        "df = df.rename(columns={\"discente\": \"QTD_ALUNOS\", \"media_final\": \"MEDIA_FINAL\"})\n",
        "\n",
        "# junta a quantidade de trancados na turma\n",
        "df = pd.merge(df, qtd_trancados, right_index=True, left_index=True)\n",
        "\n",
        "# Separa somente os dados de graduação\n",
        "grad = df.reset_index(level=0)\n",
        "\n",
        "grad.drop('semestre', axis='columns', inplace=True)\n",
        "\n",
        "grad = grad.merge(data_turmas, on=\"id_turma\", how=\"left\")\n",
        "grad.drop_duplicates(subset=\"id_turma\", keep=\"first\", inplace=True)\n",
        "grad = grad[grad['nivel_ensino'] == \"GRADUAÇÃO\"]\n",
        "grad = grad.rename(columns={'id_turma': 'TURMA', 'semestre': 'SEMESTRE'})\n",
        "grad = grad.filter(items=['TURMA', 'QTD_ALUNOS', 'MEDIA_FINAL', 'TRANCADOS', 'SEMESTRE'])\n",
        "\n",
        "grad_20181 = grad[grad['SEMESTRE'] == '20181']\n",
        "grad_20172 = grad[grad['SEMESTRE'] == '20172'] \n",
        "grad_20171 = grad[grad['SEMESTRE'] == '20171'] \n",
        "\n",
        "# Separando somente as turmas do BES\n",
        "bes_df20181 = grad_20181[grad_20181['TURMA'].isin(ids_turmas_bes)]\n",
        "bes_df20172 = grad_20172[grad_20172['TURMA'].isin(ids_turmas_bes)]\n",
        "bes_df20171 = grad_20171[grad_20171['TURMA'].isin(ids_turmas_bes)]\n"
      ],
      "execution_count": null,
      "outputs": []
    },
    {
      "cell_type": "markdown",
      "metadata": {
        "id": "a4TnFIdkx-oB"
      },
      "source": [
        "## Preparação dos dados para gerar os gráficos"
      ]
    },
    {
      "cell_type": "code",
      "metadata": {
        "id": "9_NKIJhKx3ZF"
      },
      "source": [
        "# pega todas as turmas com a mesma quantidade de alunos e faz uma média\n",
        "'''\n",
        "Faz a média da média final de cada turma com a mesma quantidade de alunos, para\n",
        "diminuir a quantidade de pontos no scatter plot\n",
        "'''\n",
        "\n",
        "#2018.1\n",
        "\n",
        "qtd_20181 = grad_20181.filter(items=['QTD_ALUNOS', 'MEDIA_FINAL', 'TRANCADOS', 'SEMESTRE'])\n",
        "\n",
        "#RETIRAR O SEMESTRE E DEPOIS JUNTAR NOVAMENTE DEPOIS DE FAZER A CONTAGEM\n",
        "\n",
        "# pega a quantidade de turmas com n quantidade de alunos\n",
        "sizes20181 = qtd_20181.copy()\n",
        "sizes20181['QTD_TURMAS'] = 1\n",
        "sizes20181 = sizes20181.groupby('QTD_ALUNOS').count()\n",
        "sizes20181 = sizes20181.filter(items=['QTD_ALUNOS', 'QTD_TURMAS'])\n",
        "\n",
        "qtd_20181 = qtd_20181.groupby('QTD_ALUNOS').mean()\n",
        "qtd_20181.reset_index(level=0, inplace=True)\n",
        "qtd_20181['PORCENTAGEM_TRANCAMENTOS'] = (qtd_20181['TRANCADOS'] / qtd_20181['QTD_ALUNOS']) * 100\n",
        "\n",
        "qtd_20181 = qtd_20181.merge(sizes20181, on=\"QTD_ALUNOS\")\n",
        "\n",
        "#somente as turmas do BES\n",
        "qtd_bes20181 = bes_df20181.filter(items=['QTD_ALUNOS', 'MEDIA_FINAL', 'TRANCADOS'])\n",
        "\n",
        "# pega a quantidade de turmas com n quantidade de alunos\n",
        "sizes_20181 = qtd_bes20181.copy()\n",
        "sizes_20181['QTD_TURMAS'] = 1\n",
        "sizes_20181 = sizes20181.groupby('QTD_ALUNOS').count()\n",
        "sizes_20181 = sizes20181.filter(items=['QTD_ALUNOS', 'QTD_TURMAS'])\n",
        "\n",
        "qtd_bes20181 = qtd_bes20181.groupby('QTD_ALUNOS').mean()\n",
        "qtd_bes20181.reset_index(level=0, inplace=True)\n",
        "qtd_bes20181['PORCENTAGEM_TRANCAMENTOS'] = (qtd_bes20181['TRANCADOS'] / qtd_bes20181['QTD_ALUNOS']) * 100\n",
        "\n",
        "qtd_bes20181 = qtd_bes20181.merge(sizes_20181, on=\"QTD_ALUNOS\")\n",
        "\n",
        "#2017.2\n",
        "\n",
        "qtd_20172 = grad_20172.filter(items=['QTD_ALUNOS', 'MEDIA_FINAL', 'TRANCADOS', 'SEMESTRE'])\n",
        "\n",
        "#RETIRAR O SEMESTRE E DEPOIS JUNTAR NOVAMENTE DEPOIS DE FAZER A CONTAGEM\n",
        "\n",
        "# pega a quantidade de turmas com n quantidade de alunos\n",
        "sizes20172 = qtd_20172.copy()\n",
        "sizes20172['QTD_TURMAS'] = 1\n",
        "sizes20172 = sizes20172.groupby('QTD_ALUNOS').count()\n",
        "sizes20172 = sizes20172.filter(items=['QTD_ALUNOS', 'QTD_TURMAS'])\n",
        "\n",
        "qtd_20172 = qtd_20172.groupby('QTD_ALUNOS').mean()\n",
        "qtd_20172.reset_index(level=0, inplace=True)\n",
        "qtd_20172['PORCENTAGEM_TRANCAMENTOS'] = (qtd_20172['TRANCADOS'] / qtd_20172['QTD_ALUNOS']) * 100\n",
        "\n",
        "qtd_20172 = qtd_20172.merge(sizes20172, on=\"QTD_ALUNOS\")\n",
        "\n",
        "#somente as turmas do BES\n",
        "qtd_bes20172 = bes_df20172.filter(items=['QTD_ALUNOS', 'MEDIA_FINAL', 'TRANCADOS'])\n",
        "\n",
        "# pega a quantidade de turmas com n quantidade de alunos\n",
        "sizes_20172 = qtd_bes20172.copy()\n",
        "sizes_20172['QTD_TURMAS'] = 1\n",
        "sizes_20172 = sizes20172.groupby('QTD_ALUNOS').count()\n",
        "sizes_20172 = sizes20172.filter(items=['QTD_ALUNOS', 'QTD_TURMAS'])\n",
        "\n",
        "qtd_bes20172 = qtd_bes20172.groupby('QTD_ALUNOS').mean()\n",
        "qtd_bes20172.reset_index(level=0, inplace=True)\n",
        "qtd_bes20172['PORCENTAGEM_TRANCAMENTOS'] = (qtd_bes20172['TRANCADOS'] / qtd_bes20172['QTD_ALUNOS']) * 100\n",
        "\n",
        "qtd_bes20172 = qtd_bes20172.merge(sizes_20172, on=\"QTD_ALUNOS\")\n",
        "\n",
        "\n",
        "#2017.1\n",
        "\n",
        "qtd_20171 = grad_20171.filter(items=['QTD_ALUNOS', 'MEDIA_FINAL', 'TRANCADOS', 'SEMESTRE'])\n",
        "\n",
        "#RETIRAR O SEMESTRE E DEPOIS JUNTAR NOVAMENTE DEPOIS DE FAZER A CONTAGEM\n",
        "\n",
        "# pega a quantidade de turmas com n quantidade de alunos\n",
        "sizes20171 = qtd_20171.copy()\n",
        "sizes20171['QTD_TURMAS'] = 1\n",
        "sizes20171 = sizes20171.groupby('QTD_ALUNOS').count()\n",
        "sizes20171 = sizes20171.filter(items=['QTD_ALUNOS', 'QTD_TURMAS'])\n",
        "\n",
        "qtd_20171 = qtd_20171.groupby('QTD_ALUNOS').mean()\n",
        "qtd_20171.reset_index(level=0, inplace=True)\n",
        "qtd_20171['PORCENTAGEM_TRANCAMENTOS'] = (qtd_20171['TRANCADOS'] / qtd_20171['QTD_ALUNOS']) * 100\n",
        "\n",
        "qtd_20171 = qtd_20171.merge(sizes20171, on=\"QTD_ALUNOS\")\n",
        "\n",
        "#somente as turmas do BES\n",
        "qtd_bes20171 = bes_df20171.filter(items=['QTD_ALUNOS', 'MEDIA_FINAL', 'TRANCADOS'])\n",
        "\n",
        "# pega a quantidade de turmas com n quantidade de alunos\n",
        "sizes_20171 = qtd_bes20171.copy()\n",
        "sizes_20171['QTD_TURMAS'] = 1\n",
        "sizes_20171 = sizes20171.groupby('QTD_ALUNOS').count()\n",
        "sizes_20171 = sizes20171.filter(items=['QTD_ALUNOS', 'QTD_TURMAS'])\n",
        "\n",
        "qtd_bes20171 = qtd_bes20171.groupby('QTD_ALUNOS').mean()\n",
        "qtd_bes20171.reset_index(level=0, inplace=True)\n",
        "qtd_bes20171['PORCENTAGEM_TRANCAMENTOS'] = (qtd_bes20171['TRANCADOS'] / qtd_bes20171['QTD_ALUNOS']) * 100\n",
        "\n",
        "qtd_bes20171 = qtd_bes20171.merge(sizes_20171, on=\"QTD_ALUNOS\")\n",
        "\n",
        "qtd_20181[\"SEMESTRE\"] = \"20181\"\n",
        "qtd_20172[\"SEMESTRE\"] = \"20172\"\n",
        "qtd_20171[\"SEMESTRE\"] = \"20171\"\n",
        "qtd = pd.concat([qtd_20181, qtd_20172, qtd_20171])\n",
        "\n",
        "qtd_bes20181[\"SEMESTRE\"] = \"20181\"\n",
        "qtd_bes20172[\"SEMESTRE\"] = \"20172\"\n",
        "qtd_bes20171[\"SEMESTRE\"] = \"20171\"\n",
        "qtd_bes = pd.concat([qtd_bes20181, qtd_bes20172, qtd_bes20171])\n",
        "\n",
        "# Dados desempenho por notas Graduações\n",
        "x_20181 = qtd_20181['QTD_ALUNOS'].to_numpy()\n",
        "y_20181 = qtd_20181['MEDIA_FINAL'].to_numpy()\n",
        "qtd_turmas_20181 = qtd_20181['QTD_TURMAS'].to_numpy()\n",
        "qtd_20181['SEMESTRE'] = qtd_20181['SEMESTRE'].rank(method='dense', ascending=True).astype(int)\n",
        "semestre_20181 = qtd_20181['SEMESTRE'].to_numpy()\n",
        "\n",
        "x_20172 = qtd_20172['QTD_ALUNOS'].to_numpy()\n",
        "y_20172 = qtd_20172['MEDIA_FINAL'].to_numpy()\n",
        "qtd_turmas_20172 = qtd_20172['QTD_TURMAS'].to_numpy()\n",
        "qtd_20172['SEMESTRE'] = qtd_20172['SEMESTRE'].rank(method='dense', ascending=True).astype(int)\n",
        "semestre_20172 = qtd_20172['SEMESTRE'].to_numpy()\n",
        "\n",
        "x_20171 = qtd_20171['QTD_ALUNOS'].to_numpy()\n",
        "y_20171 = qtd_20171['MEDIA_FINAL'].to_numpy()\n",
        "qtd_turmas_20171 = qtd_20171['QTD_TURMAS'].to_numpy()\n",
        "qtd_20171['SEMESTRE'] = qtd_20171['SEMESTRE'].rank(method='dense', ascending=True).astype(int)\n",
        "semestre_20171 = qtd_20171['SEMESTRE'].to_numpy()\n",
        "\n",
        "# Dados desempenho por notas Graduações BES\n",
        "x_bes_20181 = qtd_bes20181['QTD_ALUNOS'].to_numpy()\n",
        "y_bes_20181 = qtd_bes20181['MEDIA_FINAL'].to_numpy()\n",
        "qtd_turmas_bes_20181 = qtd_bes20181['QTD_TURMAS'].to_numpy()\n",
        "qtd_bes20181['SEMESTRE'] = qtd_bes20181['SEMESTRE'].rank(method='dense', ascending=True).astype(int)\n",
        "semestre_20181_bes = qtd_bes20181['SEMESTRE'].to_numpy()\n",
        "\n",
        "x_bes_20172 = qtd_bes20172['QTD_ALUNOS'].to_numpy()\n",
        "y_bes_20172 = qtd_bes20172['MEDIA_FINAL'].to_numpy()\n",
        "qtd_turmas_bes_20172 = qtd_bes20172['QTD_TURMAS'].to_numpy()\n",
        "qtd_bes20172['SEMESTRE'] = qtd_bes20172['SEMESTRE'].rank(method='dense', ascending=True).astype(int)\n",
        "semestre_20172_bes = qtd_bes20172['SEMESTRE'].to_numpy()\n",
        "\n",
        "x_bes_20171 = qtd_bes20171['QTD_ALUNOS'].to_numpy()\n",
        "y_bes_20171 = qtd_bes20171['MEDIA_FINAL'].to_numpy()\n",
        "qtd_turmas_bes_20171 = qtd_bes20171['QTD_TURMAS'].to_numpy()\n",
        "qtd_bes20171['SEMESTRE'] = qtd_bes20171['SEMESTRE'].rank(method='dense', ascending=True).astype(int)\n",
        "semestre_20171_bes = qtd_bes20171['SEMESTRE'].to_numpy()\n",
        "\n",
        "x = qtd['QTD_ALUNOS'].to_numpy()\n",
        "y = qtd['MEDIA_FINAL'].to_numpy()\n",
        "\n",
        "x_bes = qtd_bes['QTD_ALUNOS'].to_numpy()\n",
        "y_bes = qtd_bes['MEDIA_FINAL'].to_numpy()\n",
        "\n",
        "# Dados desempenho por trancamentos Graduações\n",
        "x_tranc_grad_20181 = qtd_20181['QTD_ALUNOS'].to_numpy()\n",
        "y_tranc_grad_20181 = qtd_20181['PORCENTAGEM_TRANCAMENTOS'].to_numpy()\n",
        "\n",
        "x_tranc_grad_20172 = qtd_20172['QTD_ALUNOS'].to_numpy()\n",
        "y_tranc_grad_20172 = qtd_20172['PORCENTAGEM_TRANCAMENTOS'].to_numpy()\n",
        "\n",
        "x_tranc_grad_20171 = qtd_20171['QTD_ALUNOS'].to_numpy()\n",
        "y_tranc_grad_20171 = qtd_20171['PORCENTAGEM_TRANCAMENTOS'].to_numpy()\n",
        "\n",
        "x_tranc_grad = qtd['QTD_ALUNOS'].to_numpy()\n",
        "y_tranc_grad = qtd['PORCENTAGEM_TRANCAMENTOS'].to_numpy()\n",
        "\n",
        "# Dados desempenho por trancamentos BES\n",
        "\n",
        "x_tranc_bes_20181 = qtd_bes20181['QTD_ALUNOS'].to_numpy()\n",
        "y_tranc_bes_20181 = qtd_bes20181['PORCENTAGEM_TRANCAMENTOS'].to_numpy()\n",
        "\n",
        "x_tranc_bes_20172 = qtd_bes20172['QTD_ALUNOS'].to_numpy()\n",
        "y_tranc_bes_20172 = qtd_bes20172['PORCENTAGEM_TRANCAMENTOS'].to_numpy()\n",
        "\n",
        "x_tranc_bes_20171 = qtd_bes20171['QTD_ALUNOS'].to_numpy()\n",
        "y_tranc_bes_20171 = qtd_bes20171['PORCENTAGEM_TRANCAMENTOS'].to_numpy()\n",
        "\n",
        "x_tranc_bes = qtd_bes['QTD_ALUNOS'].to_numpy()\n",
        "y_tranc_bes = qtd_bes['PORCENTAGEM_TRANCAMENTOS'].to_numpy()"
      ],
      "execution_count": null,
      "outputs": []
    },
    {
      "cell_type": "markdown",
      "source": [
        "## Gráficos"
      ],
      "metadata": {
        "id": "uU3MUbJXFbWa"
      }
    },
    {
      "cell_type": "markdown",
      "metadata": {
        "id": "R2aez3fUZfKX"
      },
      "source": [
        "**Scatterplot: tamanho das turmas X nota média**"
      ]
    },
    {
      "cell_type": "code",
      "metadata": {
        "colab": {
          "base_uri": "https://localhost:8080/",
          "height": 893
        },
        "id": "6jF0o30QzFvq",
        "outputId": "bc92d946-0737-4212-c75b-a5c1b0536651"
      },
      "source": [
        "#Graduações\n",
        "\n",
        "#Criar scatter plot\n",
        "plt.subplot(2,1,1)\n",
        "\n",
        "plt.scatter(x = 'QTD_ALUNOS', y = 'MEDIA_FINAL',  c='blue', data=qtd_20181)\n",
        "plt.scatter(x = 'QTD_ALUNOS', y = 'MEDIA_FINAL', c='red',  data=qtd_20172)\n",
        "plt.scatter(x = 'QTD_ALUNOS', y = 'MEDIA_FINAL', c='green',  data=qtd_20171)\n",
        "\n",
        "plt.legend(labels=[\"2018.1\", \"2017.2\", \"2017.1\"], loc=\"upper right\")\n",
        "\n",
        "#Tendência (polinomial)\n",
        "z = np.polyfit(x_20181, y_20181, 1)\n",
        "p = np.poly1d(z)\n",
        "plt.plot(x_20181, p(x_20181),\"b-\")\n",
        "\n",
        "z = np.polyfit(x_20172, y_20172, 1)\n",
        "p = np.poly1d(z)\n",
        "plt.plot(x_20172, p(x_20172),\"r-\")\n",
        "\n",
        "z = np.polyfit(x_20171, y_20171, 1)\n",
        "p = np.poly1d(z)\n",
        "plt.plot(x_20171, p(x_20171),\"g-\")\n",
        "\n",
        "plt.xlim(0, 250)\n",
        "plt.ylim(0, 10)\n",
        "\n",
        "\n",
        "plt.locator_params(axis=\"x\", nbins=12)\n",
        "plt.locator_params(axis=\"y\", nbins=10)\n",
        "\n",
        "plt.title('Graduações')\n",
        "plt.xlabel('Alunos na turma')\n",
        "plt.ylabel('Média de notas')\n",
        "\n",
        "#BES\n",
        "\n",
        "#Criar scatter plot\n",
        "plt.subplot(2,1,2)\n",
        "\n",
        "plt.scatter(x = 'QTD_ALUNOS', y = 'MEDIA_FINAL',  c='blue', data=qtd_bes20181)\n",
        "plt.scatter(x = 'QTD_ALUNOS', y = 'MEDIA_FINAL', c='red',  data=qtd_bes20172)\n",
        "plt.scatter(x = 'QTD_ALUNOS', y = 'MEDIA_FINAL', c='green',  data=qtd_bes20171)\n",
        "\n",
        "plt.legend(labels=[\"2018.1\", \"2017.2\", \"2017.1\"], loc=\"upper right\")\n",
        "\n",
        "#Tendência (polinomial)\n",
        "\n",
        "z = np.polyfit(x_bes_20181, y_bes_20181, 1)\n",
        "p = np.poly1d(z)\n",
        "plt.plot(x_bes_20181,p(x_bes_20181),\"b-\")\n",
        "\n",
        "z = np.polyfit(x_bes_20172, y_bes_20172, 1)\n",
        "p = np.poly1d(z)\n",
        "plt.plot(x_bes_20172,p(x_bes_20172),\"r-\")\n",
        "\n",
        "z = np.polyfit(x_bes_20171, y_bes_20171, 1)\n",
        "p = np.poly1d(z)\n",
        "plt.plot(x_bes_20171,p(x_bes_20171),\"g-\")\n",
        "\n",
        "plt.xlim(0, 250)\n",
        "plt.ylim(0, 10)\n",
        "\n",
        "plt.locator_params(axis=\"x\", nbins=12)\n",
        "plt.locator_params(axis=\"y\", nbins=10)\n",
        "\n",
        "plt.title('BES')\n",
        "plt.xlabel('Alunos na turma')\n",
        "plt.ylabel('Média de notas da turma')\n",
        "\n",
        "plt.rcParams['figure.figsize'] = [15, 15]\n",
        "plt.savefig('plot_notas.jpg')\n",
        "plt.show()"
      ],
      "execution_count": null,
      "outputs": [
        {
          "output_type": "display_data",
          "data": {
            "image/png": "[encoded data removed]",
            "text/plain": [
              "<Figure size 1080x1080 with 2 Axes>"
            ]
          },
          "metadata": {
            "needs_background": "light"
          }
        }
      ]
    },
    {
      "cell_type": "code",
      "source": [
        "#Baixar os gráficos de notas\n",
        "\n",
        "files.download('plot_notas.jpg')"
      ],
      "metadata": {
        "colab": {
          "base_uri": "https://localhost:8080/",
          "height": 17
        },
        "id": "tbPVrWvEcTie",
        "outputId": "bb7f78fd-a3e5-4529-dbf9-e605f8df158b"
      },
      "execution_count": null,
      "outputs": [
        {
          "output_type": "display_data",
          "data": {
            "application/javascript": [
              "\n",
              "    async function download(id, filename, size) {\n",
              "      if (!google.colab.kernel.accessAllowed) {\n",
              "        return;\n",
              "      }\n",
              "      const div = document.createElement('div');\n",
              "      const label = document.createElement('label');\n",
              "      label.textContent = `Downloading \"${filename}\": `;\n",
              "      div.appendChild(label);\n",
              "      const progress = document.createElement('progress');\n",
              "      progress.max = size;\n",
              "      div.appendChild(progress);\n",
              "      document.body.appendChild(div);\n",
              "\n",
              "      const buffers = [];\n",
              "      let downloaded = 0;\n",
              "\n",
              "      const channel = await google.colab.kernel.comms.open(id);\n",
              "      // Send a message to notify the kernel that we're ready.\n",
              "      channel.send({})\n",
              "\n",
              "      for await (const message of channel.messages) {\n",
              "        // Send a message to notify the kernel that we're ready.\n",
              "        channel.send({})\n",
              "        if (message.buffers) {\n",
              "          for (const buffer of message.buffers) {\n",
              "            buffers.push(buffer);\n",
              "            downloaded += buffer.byteLength;\n",
              "            progress.value = downloaded;\n",
              "          }\n",
              "        }\n",
              "      }\n",
              "      const blob = new Blob(buffers, {type: 'application/binary'});\n",
              "      const a = document.createElement('a');\n",
              "      a.href = window.URL.createObjectURL(blob);\n",
              "      a.download = filename;\n",
              "      div.appendChild(a);\n",
              "      a.click();\n",
              "      div.remove();\n",
              "    }\n",
              "  "
            ],
            "text/plain": [
              "<IPython.core.display.Javascript object>"
            ]
          },
          "metadata": {}
        },
        {
          "output_type": "display_data",
          "data": {
            "application/javascript": [
              "download(\"download_bd75f7ad-5bb3-4f94-89a6-f3001559996e\", \"plot_notas.jpg\", 98858)"
            ],
            "text/plain": [
              "<IPython.core.display.Javascript object>"
            ]
          },
          "metadata": {}
        }
      ]
    },
    {
      "cell_type": "markdown",
      "source": [
        "**Scatterplot: trancamentos x tamanho da turma**"
      ],
      "metadata": {
        "id": "hKffs8QybwVT"
      }
    },
    {
      "cell_type": "code",
      "source": [
        "\n",
        "# Para a Graduação\n",
        "\n",
        "#Criar scatter plot\n",
        "\n",
        "plt.subplot(2,1,1)\n",
        "\n",
        "plt.scatter(x = 'QTD_ALUNOS', y = 'PORCENTAGEM_TRANCAMENTOS',  c='blue', data=qtd_20181)\n",
        "plt.scatter(x = 'QTD_ALUNOS', y = 'PORCENTAGEM_TRANCAMENTOS',  c='red', data=qtd_20172)\n",
        "plt.scatter(x = 'QTD_ALUNOS', y = 'PORCENTAGEM_TRANCAMENTOS',  c='green', data=qtd_20171)\n",
        "\n",
        "plt.legend(labels=[\"2018.1\", \"2017.2\", \"2017.1\"], loc=\"upper right\")\n",
        "\n",
        "plt.xlim(0, 150)\n",
        "plt.ylim(0, 10)\n",
        "plt.locator_params(axis=\"x\", nbins=12)\n",
        "plt.locator_params(axis=\"y\", nbins=10)\n",
        "\n",
        "#Tendência (polinomial)\n",
        "\n",
        "\n",
        "z = np.polyfit(x_tranc_grad_20181, y_tranc_grad_20181, 1)\n",
        "p = np.poly1d(z)\n",
        "plt.plot(x_tranc_grad_20181, p(x_tranc_grad_20181),\"b-\")\n",
        "\n",
        "z = np.polyfit(x_tranc_grad_20172, y_tranc_grad_20172, 1)\n",
        "p = np.poly1d(z)\n",
        "plt.plot(x_tranc_grad_20172, p(x_tranc_grad_20172), \"r-\")\n",
        "\n",
        "z = np.polyfit(x_tranc_grad_20171, y_tranc_grad_20171, 1)\n",
        "p = np.poly1d(z)\n",
        "plt.plot(x_tranc_grad_20171, p(x_tranc_grad_20171), \"g-\")\n",
        "\n",
        "\n",
        "plt.title('Graduações')\n",
        "plt.xlabel('Alunos na turma')\n",
        "plt.ylabel('Porcentagem de trancamentos')\n",
        "\n",
        "# para o BES\n",
        "plt.subplot(2,1,2)\n",
        "\n",
        "plt.scatter(x = 'QTD_ALUNOS', y = 'PORCENTAGEM_TRANCAMENTOS',  c='blue', data=qtd_bes20181)\n",
        "plt.scatter(x = 'QTD_ALUNOS', y = 'PORCENTAGEM_TRANCAMENTOS',  c='red', data=qtd_bes20172)\n",
        "plt.scatter(x = 'QTD_ALUNOS', y = 'PORCENTAGEM_TRANCAMENTOS',  c='green', data=qtd_bes20171)\n",
        "\n",
        "plt.legend(labels=[\"2018.1\", \"2017.2\", \"2017.1\"], loc=\"upper right\")\n",
        "\n",
        "#Tendência (polinomial)\n",
        "z = np.polyfit(x_tranc_bes, y_tranc_bes, 1)\n",
        "p = np.poly1d(z)\n",
        "\n",
        "plt.xlim(0, 150)\n",
        "plt.ylim(0, 10)\n",
        "plt.locator_params(axis=\"x\", nbins=12)\n",
        "plt.locator_params(axis=\"y\", nbins=10)\n",
        "\n",
        "z = np.polyfit(x_tranc_bes_20181, y_tranc_bes_20181, 1)\n",
        "p = np.poly1d(z)\n",
        "plt.plot(x_tranc_bes_20181, p(x_tranc_bes_20181),\"b-\")\n",
        "\n",
        "z = np.polyfit(x_tranc_bes_20172, y_tranc_bes_20172, 1)\n",
        "p = np.poly1d(z)\n",
        "plt.plot(x_tranc_bes_20172, p(x_tranc_bes_20172), \"r-\")\n",
        "\n",
        "z = np.polyfit(x_tranc_bes_20171, y_tranc_bes_20171, 1)\n",
        "p = np.poly1d(z)\n",
        "plt.plot(x_tranc_bes_20171, p(x_tranc_bes_20171), \"g-\")\n",
        "\n",
        "plt.title('BES')\n",
        "plt.xlabel('Alunos na turma')\n",
        "plt.ylabel('Porcentagem de trancamentos')\n",
        "\n",
        "plt.rcParams['figure.figsize'] = [15, 10]\n",
        "plt.savefig('plot_trancamentos.jpg')\n",
        "plt.show()\n"
      ],
      "metadata": {
        "colab": {
          "base_uri": "https://localhost:8080/",
          "height": 893
        },
        "id": "KL-R2a-9b0l8",
        "outputId": "f7787609-29a2-4614-eaeb-49ae0672c23f"
      },
      "execution_count": null,
      "outputs": [
        {
          "output_type": "display_data",
          "data": {
            "image/png": "[encoded data removed]",
            "text/plain": [
              "<Figure size 1080x1080 with 2 Axes>"
            ]
          },
          "metadata": {
            "needs_background": "light"
          }
        }
      ]
    },
    {
      "cell_type": "code",
      "source": [
        "\n",
        "#Baixar os gráficos de trancamento\n",
        "files.download('plot_trancamentos.jpg')"
      ],
      "metadata": {
        "colab": {
          "base_uri": "https://localhost:8080/",
          "height": 17
        },
        "id": "n3XOX-Fiu7SR",
        "outputId": "924e6d8a-50fc-44fb-9396-152a53ad67f0"
      },
      "execution_count": null,
      "outputs": [
        {
          "output_type": "display_data",
          "data": {
            "application/javascript": [
              "\n",
              "    async function download(id, filename, size) {\n",
              "      if (!google.colab.kernel.accessAllowed) {\n",
              "        return;\n",
              "      }\n",
              "      const div = document.createElement('div');\n",
              "      const label = document.createElement('label');\n",
              "      label.textContent = `Downloading \"${filename}\": `;\n",
              "      div.appendChild(label);\n",
              "      const progress = document.createElement('progress');\n",
              "      progress.max = size;\n",
              "      div.appendChild(progress);\n",
              "      document.body.appendChild(div);\n",
              "\n",
              "      const buffers = [];\n",
              "      let downloaded = 0;\n",
              "\n",
              "      const channel = await google.colab.kernel.comms.open(id);\n",
              "      // Send a message to notify the kernel that we're ready.\n",
              "      channel.send({})\n",
              "\n",
              "      for await (const message of channel.messages) {\n",
              "        // Send a message to notify the kernel that we're ready.\n",
              "        channel.send({})\n",
              "        if (message.buffers) {\n",
              "          for (const buffer of message.buffers) {\n",
              "            buffers.push(buffer);\n",
              "            downloaded += buffer.byteLength;\n",
              "            progress.value = downloaded;\n",
              "          }\n",
              "        }\n",
              "      }\n",
              "      const blob = new Blob(buffers, {type: 'application/binary'});\n",
              "      const a = document.createElement('a');\n",
              "      a.href = window.URL.createObjectURL(blob);\n",
              "      a.download = filename;\n",
              "      div.appendChild(a);\n",
              "      a.click();\n",
              "      div.remove();\n",
              "    }\n",
              "  "
            ],
            "text/plain": [
              "<IPython.core.display.Javascript object>"
            ]
          },
          "metadata": {}
        },
        {
          "output_type": "display_data",
          "data": {
            "application/javascript": [
              "download(\"download_e6e2d88e-5203-4bdd-8630-8fd079ad90f8\", \"plot_trancamentos.jpg\", 117530)"
            ],
            "text/plain": [
              "<IPython.core.display.Javascript object>"
            ]
          },
          "metadata": {}
        }
      ]
    }
  ]
}